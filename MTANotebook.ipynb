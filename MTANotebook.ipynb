{
 "cells": [
  {
   "cell_type": "markdown",
   "id": "3ec5dd4f",
   "metadata": {},
   "source": [
    "## Importing Packages"
   ]
  },
  {
   "cell_type": "code",
   "execution_count": 1,
   "id": "0159fb51",
   "metadata": {},
   "outputs": [],
   "source": [
    "import numpy as np\n",
    "import pandas as pd\n",
    "import networkx as nx\n",
    "from collections import defaultdict"
   ]
  },
  {
   "cell_type": "markdown",
   "id": "14801364",
   "metadata": {},
   "source": [
    "## Importing the Dataset"
   ]
  },
  {
   "cell_type": "markdown",
   "id": "215b8b9a",
   "metadata": {},
   "source": [
    "### MTA Station dataset"
   ]
  },
  {
   "cell_type": "code",
   "execution_count": 2,
   "id": "0c585aa6",
   "metadata": {},
   "outputs": [
    {
     "data": {
      "text/html": [
       "<div>\n",
       "<style scoped>\n",
       "    .dataframe tbody tr th:only-of-type {\n",
       "        vertical-align: middle;\n",
       "    }\n",
       "\n",
       "    .dataframe tbody tr th {\n",
       "        vertical-align: top;\n",
       "    }\n",
       "\n",
       "    .dataframe thead th {\n",
       "        text-align: right;\n",
       "    }\n",
       "</style>\n",
       "<table border=\"1\" class=\"dataframe\">\n",
       "  <thead>\n",
       "    <tr style=\"text-align: right;\">\n",
       "      <th></th>\n",
       "      <th>GTFS Stop ID</th>\n",
       "      <th>Station ID</th>\n",
       "      <th>Complex ID</th>\n",
       "      <th>Division</th>\n",
       "      <th>Line</th>\n",
       "      <th>Stop Name</th>\n",
       "      <th>Borough</th>\n",
       "      <th>CBD</th>\n",
       "      <th>Daytime Routes</th>\n",
       "      <th>Structure</th>\n",
       "      <th>GTFS Latitude</th>\n",
       "      <th>GTFS Longitude</th>\n",
       "      <th>North Direction Label</th>\n",
       "      <th>South Direction Label</th>\n",
       "      <th>ADA</th>\n",
       "      <th>ADA Northbound</th>\n",
       "      <th>ADA Southbound</th>\n",
       "      <th>ADA Notes</th>\n",
       "      <th>Georeference</th>\n",
       "    </tr>\n",
       "  </thead>\n",
       "  <tbody>\n",
       "    <tr>\n",
       "      <th>0</th>\n",
       "      <td>R01</td>\n",
       "      <td>1</td>\n",
       "      <td>1</td>\n",
       "      <td>BMT</td>\n",
       "      <td>Astoria</td>\n",
       "      <td>Astoria-Ditmars Blvd</td>\n",
       "      <td>Q</td>\n",
       "      <td>False</td>\n",
       "      <td>N W</td>\n",
       "      <td>Elevated</td>\n",
       "      <td>40.775036</td>\n",
       "      <td>-73.912034</td>\n",
       "      <td>Last Stop</td>\n",
       "      <td>Manhattan</td>\n",
       "      <td>0</td>\n",
       "      <td>0</td>\n",
       "      <td>0</td>\n",
       "      <td>NaN</td>\n",
       "      <td>POINT (-73.912034 40.775036)</td>\n",
       "    </tr>\n",
       "    <tr>\n",
       "      <th>1</th>\n",
       "      <td>R03</td>\n",
       "      <td>2</td>\n",
       "      <td>2</td>\n",
       "      <td>BMT</td>\n",
       "      <td>Astoria</td>\n",
       "      <td>Astoria Blvd</td>\n",
       "      <td>Q</td>\n",
       "      <td>False</td>\n",
       "      <td>N W</td>\n",
       "      <td>Elevated</td>\n",
       "      <td>40.770258</td>\n",
       "      <td>-73.917843</td>\n",
       "      <td>Astoria</td>\n",
       "      <td>Manhattan</td>\n",
       "      <td>1</td>\n",
       "      <td>1</td>\n",
       "      <td>1</td>\n",
       "      <td>NaN</td>\n",
       "      <td>POINT (-73.917843 40.770258)</td>\n",
       "    </tr>\n",
       "    <tr>\n",
       "      <th>2</th>\n",
       "      <td>R04</td>\n",
       "      <td>3</td>\n",
       "      <td>3</td>\n",
       "      <td>BMT</td>\n",
       "      <td>Astoria</td>\n",
       "      <td>30 Av</td>\n",
       "      <td>Q</td>\n",
       "      <td>False</td>\n",
       "      <td>N W</td>\n",
       "      <td>Elevated</td>\n",
       "      <td>40.766779</td>\n",
       "      <td>-73.921479</td>\n",
       "      <td>Astoria</td>\n",
       "      <td>Manhattan</td>\n",
       "      <td>0</td>\n",
       "      <td>0</td>\n",
       "      <td>0</td>\n",
       "      <td>NaN</td>\n",
       "      <td>POINT (-73.921479 40.766779)</td>\n",
       "    </tr>\n",
       "    <tr>\n",
       "      <th>3</th>\n",
       "      <td>R05</td>\n",
       "      <td>4</td>\n",
       "      <td>4</td>\n",
       "      <td>BMT</td>\n",
       "      <td>Astoria</td>\n",
       "      <td>Broadway</td>\n",
       "      <td>Q</td>\n",
       "      <td>False</td>\n",
       "      <td>N W</td>\n",
       "      <td>Elevated</td>\n",
       "      <td>40.761820</td>\n",
       "      <td>-73.925508</td>\n",
       "      <td>Astoria</td>\n",
       "      <td>Manhattan</td>\n",
       "      <td>0</td>\n",
       "      <td>0</td>\n",
       "      <td>0</td>\n",
       "      <td>NaN</td>\n",
       "      <td>POINT (-73.925508 40.76182)</td>\n",
       "    </tr>\n",
       "    <tr>\n",
       "      <th>4</th>\n",
       "      <td>R06</td>\n",
       "      <td>5</td>\n",
       "      <td>5</td>\n",
       "      <td>BMT</td>\n",
       "      <td>Astoria</td>\n",
       "      <td>36 Av</td>\n",
       "      <td>Q</td>\n",
       "      <td>False</td>\n",
       "      <td>N W</td>\n",
       "      <td>Elevated</td>\n",
       "      <td>40.756804</td>\n",
       "      <td>-73.929575</td>\n",
       "      <td>Astoria</td>\n",
       "      <td>Manhattan</td>\n",
       "      <td>0</td>\n",
       "      <td>0</td>\n",
       "      <td>0</td>\n",
       "      <td>NaN</td>\n",
       "      <td>POINT (-73.929575 40.756804)</td>\n",
       "    </tr>\n",
       "  </tbody>\n",
       "</table>\n",
       "</div>"
      ],
      "text/plain": [
       "  GTFS Stop ID  Station ID  Complex ID Division     Line  \\\n",
       "0          R01           1           1      BMT  Astoria   \n",
       "1          R03           2           2      BMT  Astoria   \n",
       "2          R04           3           3      BMT  Astoria   \n",
       "3          R05           4           4      BMT  Astoria   \n",
       "4          R06           5           5      BMT  Astoria   \n",
       "\n",
       "              Stop Name Borough    CBD Daytime Routes Structure  \\\n",
       "0  Astoria-Ditmars Blvd       Q  False            N W  Elevated   \n",
       "1          Astoria Blvd       Q  False            N W  Elevated   \n",
       "2                 30 Av       Q  False            N W  Elevated   \n",
       "3              Broadway       Q  False            N W  Elevated   \n",
       "4                 36 Av       Q  False            N W  Elevated   \n",
       "\n",
       "   GTFS Latitude  GTFS Longitude North Direction Label South Direction Label  \\\n",
       "0      40.775036      -73.912034             Last Stop             Manhattan   \n",
       "1      40.770258      -73.917843               Astoria             Manhattan   \n",
       "2      40.766779      -73.921479               Astoria             Manhattan   \n",
       "3      40.761820      -73.925508               Astoria             Manhattan   \n",
       "4      40.756804      -73.929575               Astoria             Manhattan   \n",
       "\n",
       "   ADA  ADA Northbound  ADA Southbound ADA Notes                  Georeference  \n",
       "0    0               0               0       NaN  POINT (-73.912034 40.775036)  \n",
       "1    1               1               1       NaN  POINT (-73.917843 40.770258)  \n",
       "2    0               0               0       NaN  POINT (-73.921479 40.766779)  \n",
       "3    0               0               0       NaN   POINT (-73.925508 40.76182)  \n",
       "4    0               0               0       NaN  POINT (-73.929575 40.756804)  "
      ]
     },
     "execution_count": 2,
     "metadata": {},
     "output_type": "execute_result"
    }
   ],
   "source": [
    "# Read in the MTAStation dataset\n",
    "mta_stations = pd.read_csv('data/MTA_Stations.csv')\n",
    "mta_stations.head()"
   ]
  },
  {
   "cell_type": "markdown",
   "id": "ac2bd522",
   "metadata": {},
   "source": [
    "After looking through the station dataset, we identified columns `Station Name`, `Station ID`, `Complex ID`, `Borough` to be the columns most relevant to the questions we are trying to answer."
   ]
  },
  {
   "cell_type": "code",
   "execution_count": 3,
   "id": "60eec219",
   "metadata": {},
   "outputs": [],
   "source": [
    "mta_stations = mta_stations[['Complex ID','Stop Name','Station ID','Borough']]"
   ]
  },
  {
   "cell_type": "markdown",
   "id": "d46e5b47",
   "metadata": {},
   "source": [
    "### MTA Ridership Dataset"
   ]
  },
  {
   "cell_type": "code",
   "execution_count": 4,
   "id": "fe3a67ad",
   "metadata": {
    "scrolled": false
   },
   "outputs": [
    {
     "data": {
      "text/html": [
       "<div>\n",
       "<style scoped>\n",
       "    .dataframe tbody tr th:only-of-type {\n",
       "        vertical-align: middle;\n",
       "    }\n",
       "\n",
       "    .dataframe tbody tr th {\n",
       "        vertical-align: top;\n",
       "    }\n",
       "\n",
       "    .dataframe thead th {\n",
       "        text-align: right;\n",
       "    }\n",
       "</style>\n",
       "<table border=\"1\" class=\"dataframe\">\n",
       "  <thead>\n",
       "    <tr style=\"text-align: right;\">\n",
       "      <th></th>\n",
       "      <th>Year</th>\n",
       "      <th>Month</th>\n",
       "      <th>Day of Week</th>\n",
       "      <th>Hour of Day</th>\n",
       "      <th>Timestamp</th>\n",
       "      <th>Origin Station Complex ID</th>\n",
       "      <th>Origin Station Complex Name</th>\n",
       "      <th>Origin Latitude</th>\n",
       "      <th>Origin Longitude</th>\n",
       "      <th>Destination Station Complex ID</th>\n",
       "      <th>Destination Station Complex Name</th>\n",
       "      <th>Destination Latitude</th>\n",
       "      <th>Destination Longitude</th>\n",
       "      <th>Estimated Average Ridership</th>\n",
       "      <th>Origin Point</th>\n",
       "      <th>Destination Point</th>\n",
       "    </tr>\n",
       "  </thead>\n",
       "  <tbody>\n",
       "    <tr>\n",
       "      <th>0</th>\n",
       "      <td>2024</td>\n",
       "      <td>1</td>\n",
       "      <td>Monday</td>\n",
       "      <td>1</td>\n",
       "      <td>01/08/2024 01:00:00 AM</td>\n",
       "      <td>26</td>\n",
       "      <td>DeKalb Av (B,Q,R)</td>\n",
       "      <td>40.690635</td>\n",
       "      <td>-73.981824</td>\n",
       "      <td>355</td>\n",
       "      <td>Winthrop St (2,5)</td>\n",
       "      <td>40.656652</td>\n",
       "      <td>-73.950200</td>\n",
       "      <td>0.5556</td>\n",
       "      <td>POINT (-73.981824 40.690635)</td>\n",
       "      <td>POINT (-73.9502 40.656652)</td>\n",
       "    </tr>\n",
       "    <tr>\n",
       "      <th>1</th>\n",
       "      <td>2024</td>\n",
       "      <td>1</td>\n",
       "      <td>Monday</td>\n",
       "      <td>1</td>\n",
       "      <td>01/08/2024 01:00:00 AM</td>\n",
       "      <td>231</td>\n",
       "      <td>Grand St (B,D)</td>\n",
       "      <td>40.718267</td>\n",
       "      <td>-73.993753</td>\n",
       "      <td>284</td>\n",
       "      <td>Nassau Av (G)</td>\n",
       "      <td>40.724635</td>\n",
       "      <td>-73.951277</td>\n",
       "      <td>0.3068</td>\n",
       "      <td>POINT (-73.993753 40.718267)</td>\n",
       "      <td>POINT (-73.951277 40.724635)</td>\n",
       "    </tr>\n",
       "    <tr>\n",
       "      <th>2</th>\n",
       "      <td>2024</td>\n",
       "      <td>1</td>\n",
       "      <td>Monday</td>\n",
       "      <td>1</td>\n",
       "      <td>01/08/2024 01:00:00 AM</td>\n",
       "      <td>313</td>\n",
       "      <td>72 St (1,2,3)</td>\n",
       "      <td>40.778453</td>\n",
       "      <td>-73.981970</td>\n",
       "      <td>71</td>\n",
       "      <td>8 Av (N)</td>\n",
       "      <td>40.635064</td>\n",
       "      <td>-74.011719</td>\n",
       "      <td>0.3012</td>\n",
       "      <td>POINT (-73.98197 40.778453)</td>\n",
       "      <td>POINT (-74.011719 40.635064)</td>\n",
       "    </tr>\n",
       "    <tr>\n",
       "      <th>3</th>\n",
       "      <td>2024</td>\n",
       "      <td>1</td>\n",
       "      <td>Monday</td>\n",
       "      <td>1</td>\n",
       "      <td>01/08/2024 01:00:00 AM</td>\n",
       "      <td>320</td>\n",
       "      <td>23 St (1)</td>\n",
       "      <td>40.744081</td>\n",
       "      <td>-73.995657</td>\n",
       "      <td>309</td>\n",
       "      <td>103 St (1)</td>\n",
       "      <td>40.799446</td>\n",
       "      <td>-73.968379</td>\n",
       "      <td>0.9000</td>\n",
       "      <td>POINT (-73.995657 40.744081)</td>\n",
       "      <td>POINT (-73.968379 40.799446)</td>\n",
       "    </tr>\n",
       "    <tr>\n",
       "      <th>4</th>\n",
       "      <td>2024</td>\n",
       "      <td>1</td>\n",
       "      <td>Monday</td>\n",
       "      <td>1</td>\n",
       "      <td>01/08/2024 01:00:00 AM</td>\n",
       "      <td>399</td>\n",
       "      <td>68 St-Hunter College (6)</td>\n",
       "      <td>40.768141</td>\n",
       "      <td>-73.963870</td>\n",
       "      <td>618</td>\n",
       "      <td>14 St (A,C,E)/8 Av (L)</td>\n",
       "      <td>40.740335</td>\n",
       "      <td>-74.002134</td>\n",
       "      <td>0.2940</td>\n",
       "      <td>POINT (-73.96387 40.768141)</td>\n",
       "      <td>POINT (-74.002134 40.740335)</td>\n",
       "    </tr>\n",
       "  </tbody>\n",
       "</table>\n",
       "</div>"
      ],
      "text/plain": [
       "   Year  Month Day of Week  Hour of Day               Timestamp  \\\n",
       "0  2024      1      Monday            1  01/08/2024 01:00:00 AM   \n",
       "1  2024      1      Monday            1  01/08/2024 01:00:00 AM   \n",
       "2  2024      1      Monday            1  01/08/2024 01:00:00 AM   \n",
       "3  2024      1      Monday            1  01/08/2024 01:00:00 AM   \n",
       "4  2024      1      Monday            1  01/08/2024 01:00:00 AM   \n",
       "\n",
       "   Origin Station Complex ID Origin Station Complex Name  Origin Latitude  \\\n",
       "0                         26           DeKalb Av (B,Q,R)        40.690635   \n",
       "1                        231              Grand St (B,D)        40.718267   \n",
       "2                        313               72 St (1,2,3)        40.778453   \n",
       "3                        320                   23 St (1)        40.744081   \n",
       "4                        399    68 St-Hunter College (6)        40.768141   \n",
       "\n",
       "   Origin Longitude  Destination Station Complex ID  \\\n",
       "0        -73.981824                             355   \n",
       "1        -73.993753                             284   \n",
       "2        -73.981970                              71   \n",
       "3        -73.995657                             309   \n",
       "4        -73.963870                             618   \n",
       "\n",
       "  Destination Station Complex Name  Destination Latitude  \\\n",
       "0                Winthrop St (2,5)             40.656652   \n",
       "1                    Nassau Av (G)             40.724635   \n",
       "2                         8 Av (N)             40.635064   \n",
       "3                       103 St (1)             40.799446   \n",
       "4           14 St (A,C,E)/8 Av (L)             40.740335   \n",
       "\n",
       "   Destination Longitude  Estimated Average Ridership  \\\n",
       "0             -73.950200                       0.5556   \n",
       "1             -73.951277                       0.3068   \n",
       "2             -74.011719                       0.3012   \n",
       "3             -73.968379                       0.9000   \n",
       "4             -74.002134                       0.2940   \n",
       "\n",
       "                   Origin Point             Destination Point  \n",
       "0  POINT (-73.981824 40.690635)    POINT (-73.9502 40.656652)  \n",
       "1  POINT (-73.993753 40.718267)  POINT (-73.951277 40.724635)  \n",
       "2   POINT (-73.98197 40.778453)  POINT (-74.011719 40.635064)  \n",
       "3  POINT (-73.995657 40.744081)  POINT (-73.968379 40.799446)  \n",
       "4   POINT (-73.96387 40.768141)  POINT (-74.002134 40.740335)  "
      ]
     },
     "execution_count": 4,
     "metadata": {},
     "output_type": "execute_result"
    }
   ],
   "source": [
    "# Read in the MTARider dataset\n",
    "mta_rides = pd.read_csv('data/MTA_Passengers.csv')\n",
    "mta_rides.head()"
   ]
  },
  {
   "cell_type": "markdown",
   "id": "b801dcc9",
   "metadata": {},
   "source": [
    "Similarly, we cut down our dataset to only include the columns that are relevant to our question."
   ]
  },
  {
   "cell_type": "code",
   "execution_count": 5,
   "id": "c3d6cc6d",
   "metadata": {},
   "outputs": [
    {
     "data": {
      "text/html": [
       "<div>\n",
       "<style scoped>\n",
       "    .dataframe tbody tr th:only-of-type {\n",
       "        vertical-align: middle;\n",
       "    }\n",
       "\n",
       "    .dataframe tbody tr th {\n",
       "        vertical-align: top;\n",
       "    }\n",
       "\n",
       "    .dataframe thead th {\n",
       "        text-align: right;\n",
       "    }\n",
       "</style>\n",
       "<table border=\"1\" class=\"dataframe\">\n",
       "  <thead>\n",
       "    <tr style=\"text-align: right;\">\n",
       "      <th></th>\n",
       "      <th>Day of Week</th>\n",
       "      <th>Hour of Day</th>\n",
       "      <th>Estimated Average Ridership</th>\n",
       "      <th>Origin Station Complex ID</th>\n",
       "      <th>Destination Station Complex ID</th>\n",
       "    </tr>\n",
       "  </thead>\n",
       "  <tbody>\n",
       "    <tr>\n",
       "      <th>0</th>\n",
       "      <td>Monday</td>\n",
       "      <td>1</td>\n",
       "      <td>0.5556</td>\n",
       "      <td>26</td>\n",
       "      <td>355</td>\n",
       "    </tr>\n",
       "    <tr>\n",
       "      <th>1</th>\n",
       "      <td>Monday</td>\n",
       "      <td>1</td>\n",
       "      <td>0.3068</td>\n",
       "      <td>231</td>\n",
       "      <td>284</td>\n",
       "    </tr>\n",
       "    <tr>\n",
       "      <th>2</th>\n",
       "      <td>Monday</td>\n",
       "      <td>1</td>\n",
       "      <td>0.3012</td>\n",
       "      <td>313</td>\n",
       "      <td>71</td>\n",
       "    </tr>\n",
       "    <tr>\n",
       "      <th>3</th>\n",
       "      <td>Monday</td>\n",
       "      <td>1</td>\n",
       "      <td>0.9000</td>\n",
       "      <td>320</td>\n",
       "      <td>309</td>\n",
       "    </tr>\n",
       "    <tr>\n",
       "      <th>4</th>\n",
       "      <td>Monday</td>\n",
       "      <td>1</td>\n",
       "      <td>0.2940</td>\n",
       "      <td>399</td>\n",
       "      <td>618</td>\n",
       "    </tr>\n",
       "    <tr>\n",
       "      <th>...</th>\n",
       "      <td>...</td>\n",
       "      <td>...</td>\n",
       "      <td>...</td>\n",
       "      <td>...</td>\n",
       "      <td>...</td>\n",
       "    </tr>\n",
       "    <tr>\n",
       "      <th>9169120</th>\n",
       "      <td>Sunday</td>\n",
       "      <td>12</td>\n",
       "      <td>0.3322</td>\n",
       "      <td>426</td>\n",
       "      <td>379</td>\n",
       "    </tr>\n",
       "    <tr>\n",
       "      <th>9169121</th>\n",
       "      <td>Sunday</td>\n",
       "      <td>12</td>\n",
       "      <td>0.7305</td>\n",
       "      <td>427</td>\n",
       "      <td>613</td>\n",
       "    </tr>\n",
       "    <tr>\n",
       "      <th>9169122</th>\n",
       "      <td>Sunday</td>\n",
       "      <td>12</td>\n",
       "      <td>0.3130</td>\n",
       "      <td>32</td>\n",
       "      <td>263</td>\n",
       "    </tr>\n",
       "    <tr>\n",
       "      <th>9169123</th>\n",
       "      <td>Sunday</td>\n",
       "      <td>12</td>\n",
       "      <td>0.8602</td>\n",
       "      <td>324</td>\n",
       "      <td>407</td>\n",
       "    </tr>\n",
       "    <tr>\n",
       "      <th>9169124</th>\n",
       "      <td>Sunday</td>\n",
       "      <td>12</td>\n",
       "      <td>0.9110</td>\n",
       "      <td>606</td>\n",
       "      <td>145</td>\n",
       "    </tr>\n",
       "  </tbody>\n",
       "</table>\n",
       "<p>9169125 rows × 5 columns</p>\n",
       "</div>"
      ],
      "text/plain": [
       "        Day of Week  Hour of Day  Estimated Average Ridership  \\\n",
       "0            Monday            1                       0.5556   \n",
       "1            Monday            1                       0.3068   \n",
       "2            Monday            1                       0.3012   \n",
       "3            Monday            1                       0.9000   \n",
       "4            Monday            1                       0.2940   \n",
       "...             ...          ...                          ...   \n",
       "9169120      Sunday           12                       0.3322   \n",
       "9169121      Sunday           12                       0.7305   \n",
       "9169122      Sunday           12                       0.3130   \n",
       "9169123      Sunday           12                       0.8602   \n",
       "9169124      Sunday           12                       0.9110   \n",
       "\n",
       "         Origin Station Complex ID  Destination Station Complex ID  \n",
       "0                               26                             355  \n",
       "1                              231                             284  \n",
       "2                              313                              71  \n",
       "3                              320                             309  \n",
       "4                              399                             618  \n",
       "...                            ...                             ...  \n",
       "9169120                        426                             379  \n",
       "9169121                        427                             613  \n",
       "9169122                         32                             263  \n",
       "9169123                        324                             407  \n",
       "9169124                        606                             145  \n",
       "\n",
       "[9169125 rows x 5 columns]"
      ]
     },
     "execution_count": 5,
     "metadata": {},
     "output_type": "execute_result"
    }
   ],
   "source": [
    "mta_rides = mta_rides[['Day of Week','Hour of Day','Estimated Average Ridership','Origin Station Complex ID','Destination Station Complex ID']]\n",
    "mta_rides"
   ]
  },
  {
   "cell_type": "markdown",
   "id": "d2e5558d",
   "metadata": {},
   "source": [
    "## Creating Graph-Based Representation"
   ]
  },
  {
   "cell_type": "code",
   "execution_count": 6,
   "id": "60830837",
   "metadata": {},
   "outputs": [],
   "source": [
    "G = nx.MultiDiGraph"
   ]
  },
  {
   "cell_type": "markdown",
   "id": "a1ca875b",
   "metadata": {},
   "source": [
    "Constructing the graph-based representation, we use each of the `ridership data` as **edge** and use its `origin station` and `destination station` as **nodes**. "
   ]
  },
  {
   "cell_type": "code",
   "execution_count": 7,
   "id": "744caebe",
   "metadata": {},
   "outputs": [],
   "source": [
    "G = nx.from_pandas_edgelist(mta_rides, source='Origin Station Complex ID', target='Destination Station Complex ID', \n",
    "                     edge_attr= True,\n",
    "                     create_using=G, edge_key=None)"
   ]
  },
  {
   "cell_type": "code",
   "execution_count": 8,
   "id": "5e5d63b0",
   "metadata": {},
   "outputs": [],
   "source": [
    "for _, row in mta_stations.iterrows():\n",
    "    complex_id = row['Complex ID']\n",
    "    attributes = row.to_dict()\n",
    "    G.add_node(complex_id, **attributes)"
   ]
  },
  {
   "cell_type": "code",
   "execution_count": 9,
   "id": "481b7a81",
   "metadata": {},
   "outputs": [
    {
     "data": {
      "text/plain": [
       "{'Complex ID': 440, 'Stop Name': '116 St', 'Station ID': 440, 'Borough': 'M'}"
      ]
     },
     "execution_count": 9,
     "metadata": {},
     "output_type": "execute_result"
    }
   ],
   "source": [
    "# Example of a node in the graph-based representation\n",
    "G.nodes[440]"
   ]
  },
  {
   "cell_type": "code",
   "execution_count": 10,
   "id": "bef5f741",
   "metadata": {},
   "outputs": [
    {
     "name": "stdout",
     "output_type": "stream",
     "text": [
      "Edge (26, 355) has attributes {'Day of Week': 'Monday', 'Hour of Day': 1, 'Estimated Average Ridership': 0.5556}\n",
      "Edge (26, 355) has attributes {'Day of Week': 'Monday', 'Hour of Day': 13, 'Estimated Average Ridership': 1.4878}\n",
      "Edge (26, 355) has attributes {'Day of Week': 'Monday', 'Hour of Day': 14, 'Estimated Average Ridership': 1.2784}\n",
      "Edge (26, 355) has attributes {'Day of Week': 'Monday', 'Hour of Day': 15, 'Estimated Average Ridership': 2.1476}\n",
      "Edge (26, 355) has attributes {'Day of Week': 'Monday', 'Hour of Day': 16, 'Estimated Average Ridership': 2.8818}\n"
     ]
    }
   ],
   "source": [
    "# Examples of edges in the graph-based representation\n",
    "count = 5\n",
    "idx = 0\n",
    "for u, v, attributes in G.edges(data=True):\n",
    "    print(f\"Edge ({u}, {v}) has attributes {attributes}\")\n",
    "    idx +=1\n",
    "    if idx >= count:\n",
    "        break\n"
   ]
  },
  {
   "cell_type": "markdown",
   "id": "c011f20d",
   "metadata": {},
   "source": [
    "## Problem 1"
   ]
  },
  {
   "cell_type": "markdown",
   "id": "9a8c4455",
   "metadata": {},
   "source": [
    "### 1.a"
   ]
  },
  {
   "cell_type": "code",
   "execution_count": 11,
   "id": "4d2d2848",
   "metadata": {},
   "outputs": [
    {
     "name": "stdout",
     "output_type": "stream",
     "text": [
      "Top 5 stations in Bk:\n",
      "     Station   Ride Count\n",
      "45       617  180918.4360\n",
      "51       120  150664.2967\n",
      "86       636  139917.7360\n",
      "41       620  113707.1244\n",
      "106      345   93257.7031\n",
      "\n",
      "Top 5 stations in M:\n",
      "    Station   Ride Count\n",
      "36      611  772832.8065\n",
      "18      610  578428.9966\n",
      "29      607  421029.6784\n",
      "23      602  382816.6320\n",
      "49      164  332532.6990\n",
      "\n",
      "Top 5 stations in Bx:\n",
      "    Station  Ride Count\n",
      "32      604  75334.2277\n",
      "5       434  59474.6468\n",
      "12      366  56023.6398\n",
      "16      382  35939.9912\n",
      "0       371  35910.6288\n",
      "\n",
      "Top 5 stations in Q:\n",
      "    Station   Ride Count\n",
      "25      616  277384.3949\n",
      "35      447  254239.2993\n",
      "7       450  117368.9540\n",
      "24      279  113661.6204\n",
      "17      451  112363.4206\n",
      "\n"
     ]
    }
   ],
   "source": [
    "# Dictionary to store ride counts for each borough\n",
    "borough_rides = defaultdict(list)\n",
    "\n",
    "# Iterate over edges to accumulate ride counts per station in each borough\n",
    "for u, v, data in G.edges(data=True):\n",
    "    origin_station = u\n",
    "    borough = G.nodes[u].get('Borough', 'Unknown') \n",
    "    ride_count = data.get('Estimated Average Ridership')\n",
    "\n",
    "    borough_rides[borough].append((origin_station, ride_count))\n",
    "\n",
    "# Find the top 5 stations for each borough\n",
    "top_stations_per_borough = {}\n",
    "for borough, rides in borough_rides.items():\n",
    "    station_rides = defaultdict(int)\n",
    "    for station, count in rides:\n",
    "        station_rides[station] += count\n",
    "    \n",
    "    # Convert to DataFrame for sorting\n",
    "    df = pd.DataFrame(station_rides.items(), columns=['Station', 'Ride Count'])\n",
    "    \n",
    "    # Sort by 'Ride Count' and take the top 5\n",
    "    top_stations_per_borough[borough] = df.sort_values(by='Ride Count', ascending=False).head(5)\n",
    "\n",
    "# Print the top stations for each borough\n",
    "for borough, top_stations in top_stations_per_borough.items():\n",
    "    print(f\"Top 5 stations in {borough}:\")\n",
    "    print(top_stations)\n",
    "    print()\n"
   ]
  },
  {
   "cell_type": "markdown",
   "id": "6ab6273d",
   "metadata": {},
   "source": [
    "### 1.b"
   ]
  },
  {
   "cell_type": "code",
   "execution_count": 12,
   "id": "5b8c601f",
   "metadata": {},
   "outputs": [
    {
     "name": "stdout",
     "output_type": "stream",
     "text": [
      "Top 5 origin stations for Monday, Tuesday, and Wednesday combined:\n",
      "    Station   Ride Count\n",
      "84      611  366682.6978\n",
      "38      610  299994.9464\n",
      "68      607  198093.2732\n",
      "54      602  178115.1026\n",
      "56      628  158768.4294\n"
     ]
    }
   ],
   "source": [
    "# Days to consider for the analysis\n",
    "days_to_include = {'Monday', 'Tuesday', 'Wednesday'}\n",
    "\n",
    "# Dictionary to accumulate ride counts for stations on specified days\n",
    "station_rides = defaultdict(int)\n",
    "\n",
    "# Iterate over the edges and filter by day_of_week\n",
    "for u, v, data in G.edges(data=True):\n",
    "    day_of_week = data.get('Day of Week')\n",
    "    if day_of_week in days_to_include:\n",
    "        origin_station = u\n",
    "        ride_count = data.get('Estimated Average Ridership')\n",
    "        station_rides[origin_station] += ride_count\n",
    "\n",
    "# Convert to DataFrame for easy sorting\n",
    "df = pd.DataFrame(station_rides.items(), columns=['Station', 'Ride Count'])\n",
    "\n",
    "# Sort by 'Ride Count' and select the top 5 stations\n",
    "top_5_stations = df.sort_values(by='Ride Count', ascending=False).head(5)\n",
    "\n",
    "# Display the results\n",
    "print(\"Top 5 origin stations for Monday, Tuesday, and Wednesday combined:\")\n",
    "print(top_5_stations)\n"
   ]
  },
  {
   "cell_type": "markdown",
   "id": "def59346",
   "metadata": {},
   "source": [
    "### 1.c"
   ]
  },
  {
   "cell_type": "code",
   "execution_count": 13,
   "id": "070fec05",
   "metadata": {},
   "outputs": [
    {
     "name": "stdout",
     "output_type": "stream",
     "text": [
      "Top 5 origin stations for Saturday and Sunday combined:\n",
      "     Station   Ride Count\n",
      "84       611  151484.7149\n",
      "68       607   81496.3893\n",
      "38       610   78418.8155\n",
      "54       602   77392.2122\n",
      "118      164   69408.9595\n"
     ]
    }
   ],
   "source": [
    "# Days to consider for the analysis\n",
    "weekend_days = {'Saturday', 'Sunday'}\n",
    "\n",
    "# Dictionary to accumulate ride counts for stations on specified days\n",
    "weekend_station_rides = defaultdict(int)\n",
    "\n",
    "# Iterate over the edges and filter by day_of_week\n",
    "for u, v, data in G.edges(data=True):\n",
    "    day_of_week = data.get('Day of Week')\n",
    "    if day_of_week in weekend_days:\n",
    "        origin_station = u\n",
    "        ride_count = data.get('Estimated Average Ridership')\n",
    "        weekend_station_rides[origin_station] += ride_count\n",
    "\n",
    "# Convert to DataFrame for sorting\n",
    "df_weekend = pd.DataFrame(weekend_station_rides.items(), columns=['Station', 'Ride Count'])\n",
    "\n",
    "# Sort by 'Ride Count' and select the top 5 stations\n",
    "top_5_weekend_stations = df_weekend.sort_values(by='Ride Count', ascending=False).head(5)\n",
    "\n",
    "# Display the results\n",
    "print(\"Top 5 origin stations for Saturday and Sunday combined:\")\n",
    "print(top_5_weekend_stations)\n"
   ]
  },
  {
   "cell_type": "markdown",
   "id": "7e8db03b",
   "metadata": {},
   "source": [
    "### 1.d"
   ]
  },
  {
   "cell_type": "code",
   "execution_count": 14,
   "id": "0c1ca947",
   "metadata": {},
   "outputs": [
    {
     "name": "stdout",
     "output_type": "stream",
     "text": [
      "Top 5 origin stations for rides between 1 am and 5 am across all days and boroughs:\n",
      "     Station  Ride Count\n",
      "84       611  23851.8459\n",
      "183      616  14400.2977\n",
      "260      447  11501.9799\n",
      "63       450  11346.5569\n",
      "237      278   8971.7651\n"
     ]
    }
   ],
   "source": [
    "# Time range to consider (1 am - 5 am)\n",
    "start_time = 1\n",
    "end_time = 5\n",
    "\n",
    "# Dictionary to accumulate ride counts for stations within the specified time range\n",
    "early_morning_rides = defaultdict(int)\n",
    "\n",
    "# Iterate over the edges and filter by time_of_ride\n",
    "for u, v, data in G.edges(data=True):\n",
    "    time_of_ride = data.get('Hour of Day')\n",
    "    if time_of_ride:\n",
    "        if start_time <= time_of_ride <= end_time:\n",
    "            origin_station = u\n",
    "            ride_count = data.get('Estimated Average Ridership')\n",
    "            early_morning_rides[origin_station] += ride_count\n",
    "\n",
    "# Convert to DataFrame for sorting\n",
    "df_early_morning = pd.DataFrame(early_morning_rides.items(), columns=['Station', 'Ride Count'])\n",
    "\n",
    "# Sort by 'Ride Count' and select the top 5 stations\n",
    "top_5_early_morning_stations = df_early_morning.sort_values(by='Ride Count', ascending=False).head(5)\n",
    "\n",
    "# Display the results\n",
    "print(\"Top 5 origin stations for rides between 1 am and 5 am across all days and boroughs:\")\n",
    "print(top_5_early_morning_stations)"
   ]
  },
  {
   "cell_type": "markdown",
   "id": "96a56b41",
   "metadata": {},
   "source": [
    "### 1.e"
   ]
  },
  {
   "cell_type": "code",
   "execution_count": 15,
   "id": "377b61e0",
   "metadata": {},
   "outputs": [
    {
     "name": "stdout",
     "output_type": "stream",
     "text": [
      "Top 5 origin stations for rides between 6 am and 9 am across all days and boroughs:\n",
      "     Station   Ride Count\n",
      "84       611  173476.3812\n",
      "38       610  120589.1905\n",
      "183      616   89547.9364\n",
      "100      318   86708.2752\n",
      "260      447   84534.1125\n"
     ]
    }
   ],
   "source": [
    "# Time range to consider (6 am - 9 am)\n",
    "start_time = 6\n",
    "end_time = 9\n",
    "\n",
    "# Dictionary to accumulate ride counts for stations within the specified time range\n",
    "early_morning_rides = defaultdict(int)\n",
    "\n",
    "# Iterate over the edges and filter by time_of_ride\n",
    "for u, v, data in G.edges(data=True):\n",
    "    time_of_ride = data.get('Hour of Day')\n",
    "    if time_of_ride:\n",
    "        if start_time <= time_of_ride <= end_time:\n",
    "            origin_station = u\n",
    "            ride_count = data.get('Estimated Average Ridership')\n",
    "            early_morning_rides[origin_station] += ride_count\n",
    "\n",
    "# Convert to DataFrame for sorting\n",
    "df_early_morning = pd.DataFrame(early_morning_rides.items(), columns=['Station', 'Ride Count'])\n",
    "\n",
    "# Sort by 'Ride Count' and select the top 5 stations\n",
    "top_5_early_morning_stations = df_early_morning.sort_values(by='Ride Count', ascending=False).head(5)\n",
    "\n",
    "# Display the results\n",
    "print(\"Top 5 origin stations for rides between 6 am and 9 am across all days and boroughs:\")\n",
    "print(top_5_early_morning_stations)"
   ]
  },
  {
   "cell_type": "markdown",
   "id": "14575eaf",
   "metadata": {},
   "source": [
    "## Problem 2"
   ]
  },
  {
   "cell_type": "markdown",
   "id": "1b8b6908",
   "metadata": {},
   "source": [
    "### 2.a"
   ]
  },
  {
   "cell_type": "code",
   "execution_count": 16,
   "id": "2e829c67",
   "metadata": {},
   "outputs": [
    {
     "name": "stdout",
     "output_type": "stream",
     "text": [
      "Top 5 destination stations in Bk:\n",
      "     Station   Ride Count\n",
      "69       617  182108.8651\n",
      "12       120  155106.0882\n",
      "78       636  142927.4383\n",
      "125      620  117848.1965\n",
      "80       345   86573.2395\n",
      "\n",
      "Top 5 destination stations in M:\n",
      "    Station   Ride Count\n",
      "35      611  755731.0109\n",
      "90      610  553936.6710\n",
      "18      607  427831.4631\n",
      "21      602  408713.8706\n",
      "7       628  324693.1087\n",
      "\n",
      "Top 5 destination stations in Q:\n",
      "    Station   Ride Count\n",
      "12      616  273041.5919\n",
      "3       447  238424.8161\n",
      "14      606  113193.4213\n",
      "29      450  109201.5524\n",
      "2       451  103706.4346\n",
      "\n",
      "Top 5 destination stations in Bx:\n",
      "    Station  Ride Count\n",
      "0       604  72982.0239\n",
      "33      434  58186.8629\n",
      "11      366  51492.9785\n",
      "3       603  34738.4729\n",
      "12      382  33780.4641\n",
      "\n"
     ]
    }
   ],
   "source": [
    "# Dictionary to store ride counts for each borough\n",
    "borough_rides = defaultdict(list)\n",
    "\n",
    "# Iterate over edges to accumulate ride counts per destination station in each borough\n",
    "for u, v, data in G.edges(data=True):\n",
    "    destination_station = v\n",
    "    borough = G.nodes[v].get('Borough', 'Unknown') \n",
    "    ride_count = data.get('Estimated Average Ridership')\n",
    "\n",
    "    borough_rides[borough].append((destination_station, ride_count))\n",
    "\n",
    "# Find the top 5 stations for each borough\n",
    "top_destinations_per_borough = {}\n",
    "for borough, rides in borough_rides.items():\n",
    "    # Aggregate ride counts per station\n",
    "    station_rides = defaultdict(int)\n",
    "    for station, count in rides:\n",
    "        station_rides[station] += count\n",
    "    \n",
    "    # Convert to DataFrame for sorting\n",
    "    df = pd.DataFrame(station_rides.items(), columns=['Station', 'Ride Count'])\n",
    "    \n",
    "    # Sort by 'Ride Count' and take the top 5\n",
    "    top_destinations_per_borough[borough] = df.sort_values(by='Ride Count', ascending=False).head(5)\n",
    "\n",
    "# Print the top stations for each borough\n",
    "for borough, top_stations in top_destinations_per_borough.items():\n",
    "    print(f\"Top 5 destination stations in {borough}:\")\n",
    "    print(top_stations)\n",
    "    print()"
   ]
  },
  {
   "cell_type": "markdown",
   "id": "3679500c",
   "metadata": {},
   "source": [
    "### 2.b"
   ]
  },
  {
   "cell_type": "code",
   "execution_count": 17,
   "id": "2468e06a",
   "metadata": {},
   "outputs": [
    {
     "name": "stdout",
     "output_type": "stream",
     "text": [
      "Top 5 destination stations for Thursday and Friday combined:\n",
      "     Station   Ride Count\n",
      "81       611  254027.9515\n",
      "257      610  193929.8707\n",
      "43       607  146122.4552\n",
      "55       602  137625.2515\n",
      "21       628  112550.0857\n"
     ]
    }
   ],
   "source": [
    "# Days to consider for the analysis\n",
    "days_to_include = {'Thursday', 'Friday'}\n",
    "\n",
    "# Dictionary to accumulate ride counts for destination stations on specified days\n",
    "station_rides = defaultdict(int)\n",
    "\n",
    "# Iterate over the edges and filter by day_of_week\n",
    "for u, v, data in G.edges(data=True):\n",
    "    day_of_week = data.get('Day of Week')\n",
    "    if day_of_week in days_to_include:\n",
    "        destination_station = v\n",
    "        ride_count = data.get('Estimated Average Ridership') \n",
    "        station_rides[destination_station] += ride_count\n",
    "\n",
    "# Convert to DataFrame for easy sorting\n",
    "df = pd.DataFrame(station_rides.items(), columns=['Station', 'Ride Count'])\n",
    "\n",
    "# Sort by 'Ride Count' and select the top 5 stations\n",
    "top_5_stations = df.sort_values(by='Ride Count', ascending=False).head(5)\n",
    "\n",
    "# Display the results\n",
    "print(\"Top 5 destination stations for Thursday and Friday combined:\")\n",
    "print(top_5_stations)"
   ]
  },
  {
   "cell_type": "markdown",
   "id": "d9fcef13",
   "metadata": {},
   "source": [
    "### 2.c"
   ]
  },
  {
   "cell_type": "code",
   "execution_count": 18,
   "id": "c9d9273e",
   "metadata": {},
   "outputs": [
    {
     "name": "stdout",
     "output_type": "stream",
     "text": [
      "Top 5 destination stations for Saturday only:\n",
      "     Station  Ride Count\n",
      "80       611  82215.3906\n",
      "42       607  48560.3881\n",
      "54       602  48271.3167\n",
      "250      610  40886.4699\n",
      "194      164  35605.2535\n"
     ]
    }
   ],
   "source": [
    "# Days to consider for the analysis\n",
    "days_to_include = {'Saturday'}\n",
    "\n",
    "# Dictionary to accumulate ride counts for destination stations on specified days\n",
    "station_rides = defaultdict(int)\n",
    "\n",
    "# Iterate over the edges and filter by day_of_week\n",
    "for u, v, data in G.edges(data=True):\n",
    "    day_of_week = data.get('Day of Week')\n",
    "    if day_of_week in days_to_include:\n",
    "        destination_station = v\n",
    "        ride_count = data.get('Estimated Average Ridership') \n",
    "        station_rides[destination_station] += ride_count\n",
    "\n",
    "# Convert to DataFrame for sorting\n",
    "df = pd.DataFrame(station_rides.items(), columns=['Station', 'Ride Count'])\n",
    "\n",
    "# Sort by 'Ride Count' and select the top 5 stations\n",
    "top_5_stations = df.sort_values(by='Ride Count', ascending=False).head(5)\n",
    "\n",
    "# Display the results\n",
    "print(\"Top 5 destination stations for Saturday only:\")\n",
    "print(top_5_stations)"
   ]
  },
  {
   "cell_type": "markdown",
   "id": "76a42e93",
   "metadata": {},
   "source": [
    "### 2.d"
   ]
  },
  {
   "cell_type": "code",
   "execution_count": 19,
   "id": "8dc2e68e",
   "metadata": {},
   "outputs": [
    {
     "name": "stdout",
     "output_type": "stream",
     "text": [
      "Top 5 destination stations for rides between 12 am and 5 am across all days and boroughs:\n",
      "     Station  Ride Count\n",
      "81       611  20514.5787\n",
      "221      610  17061.6508\n",
      "43       607  11541.9589\n",
      "21       628  10544.6630\n",
      "173      164   9657.5863\n"
     ]
    }
   ],
   "source": [
    "# Time range to consider (12 am - 5 am)\n",
    "range = [24, 1, 2, 3, 4, 5]\n",
    "\n",
    "# Dictionary to accumulate ride counts for stations within the specified time range\n",
    "early_morning_rides = defaultdict(int)\n",
    "\n",
    "# Iterate over the edges and filter by time_of_ride\n",
    "for u, v, data in G.edges(data=True):\n",
    "    time_of_ride = data.get('Hour of Day')\n",
    "    if time_of_ride:\n",
    "        if time_of_ride in range:\n",
    "            destination_station = v\n",
    "            ride_count = data.get('Estimated Average Ridership')\n",
    "            early_morning_rides[destination_station] += ride_count\n",
    "\n",
    "# Convert to DataFrame for sorting\n",
    "df_early_morning = pd.DataFrame(early_morning_rides.items(), columns=['Station', 'Ride Count'])\n",
    "\n",
    "# Sort by 'Ride Count' and select the top 5 stations\n",
    "top_5_early_morning_stations = df_early_morning.sort_values(by='Ride Count', ascending=False).head(5)\n",
    "\n",
    "# Display the results\n",
    "print(\"Top 5 destination stations for rides between 12 am and 5 am across all days and boroughs:\")\n",
    "print(top_5_early_morning_stations)"
   ]
  },
  {
   "cell_type": "markdown",
   "id": "87d157ba",
   "metadata": {},
   "source": [
    "### 2.e"
   ]
  },
  {
   "cell_type": "code",
   "execution_count": 20,
   "id": "33a5fc23",
   "metadata": {},
   "outputs": [
    {
     "name": "stdout",
     "output_type": "stream",
     "text": [
      "Top 5 destination stations for rides between 6 pm and 9 pm across all days and boroughs:\n",
      "     Station   Ride Count\n",
      "81       611  130974.9728\n",
      "257      610   67513.9508\n",
      "43       607   63408.8806\n",
      "105      616   62489.0931\n",
      "55       602   60015.5027\n"
     ]
    }
   ],
   "source": [
    "# Time range to consider (6pm-9pm)\n",
    "range = [18, 19, 20, 21]\n",
    "\n",
    "# Dictionary to accumulate ride counts for stations within the specified time range\n",
    "early_morning_rides = defaultdict(int)\n",
    "\n",
    "# Iterate over the edges and filter by time_of_ride\n",
    "for u, v, data in G.edges(data=True):\n",
    "    time_of_ride = data.get('Hour of Day')\n",
    "    if time_of_ride:\n",
    "        if time_of_ride in range:\n",
    "            destination_station = v\n",
    "            ride_count = data.get('Estimated Average Ridership') \n",
    "            early_morning_rides[destination_station] += ride_count\n",
    "\n",
    "# Convert to DataFrame for sorting\n",
    "df_early_morning = pd.DataFrame(early_morning_rides.items(), columns=['Station', 'Ride Count'])\n",
    "\n",
    "# Sort by 'Ride Count' and select the top 5 stations\n",
    "top_5_early_morning_stations = df_early_morning.sort_values(by='Ride Count', ascending=False).head(5)\n",
    "\n",
    "# Display the results\n",
    "print(\"Top 5 destination stations for rides between 6 pm and 9 pm across all days and boroughs:\")\n",
    "print(top_5_early_morning_stations)"
   ]
  },
  {
   "cell_type": "markdown",
   "id": "c5fcd9ad",
   "metadata": {},
   "source": [
    "## Problem 3"
   ]
  },
  {
   "cell_type": "markdown",
   "id": "e43701ea",
   "metadata": {},
   "source": [
    "### 3.a"
   ]
  },
  {
   "cell_type": "code",
   "execution_count": 21,
   "id": "04dde663",
   "metadata": {},
   "outputs": [
    {
     "name": "stdout",
     "output_type": "stream",
     "text": [
      "Top 10 congested source-destination pairs on Monday between 1 pm and 2 pm:\n",
      "      Source-Destination Pair  Ride Count\n",
      "11557              (610, 611)    282.2022\n",
      "69208              (447, 450)    273.7716\n",
      "17144              (628, 610)    272.3798\n",
      "69188              (447, 451)    271.3252\n",
      "11490              (610, 602)    270.6618\n",
      "69162              (447, 616)    259.8570\n",
      "16366              (602, 610)    255.8078\n",
      "38850              (451, 447)    239.9478\n",
      "24238              (611, 610)    232.1258\n",
      "11634              (610, 628)    231.0762\n"
     ]
    }
   ],
   "source": [
    "# Day and time range to consider for the analysis\n",
    "target_day = 'Monday'\n",
    "start_hour = 13  # 1 pm\n",
    "end_hour = 14    # 2 pm\n",
    "\n",
    "# Dictionary to accumulate ride counts for each source-destination pair\n",
    "congested_pairs = defaultdict(int)\n",
    "\n",
    "# Iterate over the edges and filter by day_of_week and time_of_ride\n",
    "for u, v, data in G.edges(data=True):\n",
    "    day_of_week = data.get('Day of Week')\n",
    "    time_of_ride = data.get('Hour of Day')\n",
    "\n",
    "    if day_of_week == target_day:\n",
    "        if start_hour <= time_of_ride <= end_hour:\n",
    "            source_station = u\n",
    "            destination_station = v\n",
    "            ride_count = data.get('Estimated Average Ridership', 1) \n",
    "            congested_pairs[(source_station, destination_station)] += ride_count\n",
    "\n",
    "# Convert to DataFrame for sorting\n",
    "df = pd.DataFrame(congested_pairs.items(), columns=['Source-Destination Pair', 'Ride Count'])\n",
    "\n",
    "# Sort by 'Ride Count' and select the top 10 pairs\n",
    "top_10_congested_pairs = df.sort_values(by='Ride Count', ascending=False).head(10)\n",
    "\n",
    "# Display the results\n",
    "print(\"Top 10 congested source-destination pairs on Monday between 1 pm and 2 pm:\")\n",
    "print(top_10_congested_pairs)\n"
   ]
  },
  {
   "cell_type": "markdown",
   "id": "836f9d9c",
   "metadata": {},
   "source": [
    "### 3.b"
   ]
  },
  {
   "cell_type": "code",
   "execution_count": 22,
   "id": "d73662fa",
   "metadata": {},
   "outputs": [
    {
     "name": "stdout",
     "output_type": "stream",
     "text": [
      "Top 10 congested source-destination pairs in Queens on Fridays between 6 pm and 9 pm:\n",
      "     Source-Destination Pair  Ride Count\n",
      "1870              (447, 616)    645.8218\n",
      "1890              (447, 450)    644.1210\n",
      "1883              (447, 451)    593.8203\n",
      "952               (451, 447)    433.6342\n",
      "1887              (447, 452)    385.5596\n",
      "1423              (616, 447)    345.3137\n",
      "389               (450, 447)    278.0807\n",
      "1893              (447, 449)    240.2326\n",
      "2809              (453, 447)    235.2895\n",
      "1426              (616, 254)    222.0617\n"
     ]
    }
   ],
   "source": [
    "# Day and time range to consider for the analysis\n",
    "target_day = 'Friday'\n",
    "start_hour = 18  # 6 pm\n",
    "end_hour = 21    # 9 pm\n",
    "target_borough = 'Q'\n",
    "\n",
    "# Dictionary to accumulate ride counts for each source-destination pair\n",
    "congested_pairs = defaultdict(int)\n",
    "\n",
    "# Iterate over the edges and filter by day_of_week, time_of_ride, and borough\n",
    "for u, v, data in G.edges(data=True):\n",
    "    day_of_week = data.get('Day of Week')\n",
    "    time_of_ride = data.get('Hour of Day')\n",
    "\n",
    "    # Check if both source and destination stations are in the target borough\n",
    "    if day_of_week == target_day and time_of_ride:\n",
    "        if start_hour <= time_of_ride <= end_hour:\n",
    "            source_borough = G.nodes[u].get('Borough')\n",
    "            destination_borough = G.nodes[v].get('Borough')\n",
    "            # print(source_borough, destination_borough)\n",
    "            if source_borough == target_borough and destination_borough == target_borough:\n",
    "                ride_count = data.get('Estimated Average Ridership') \n",
    "                congested_pairs[(u, v)] += ride_count\n",
    "\n",
    "# Convert to DataFrame for sorting\n",
    "df = pd.DataFrame(congested_pairs.items(), columns=['Source-Destination Pair', 'Ride Count'])\n",
    "\n",
    "# Sort by 'Ride Count' and select the top 10 pairs\n",
    "top_10_congested_pairs = df.sort_values(by='Ride Count', ascending=False).head(10)\n",
    "\n",
    "# Display the results\n",
    "print(\"Top 10 congested source-destination pairs in Queens on Fridays between 6 pm and 9 pm:\")\n",
    "print(top_10_congested_pairs)\n"
   ]
  },
  {
   "cell_type": "markdown",
   "id": "02a6a5c6",
   "metadata": {},
   "source": [
    "### 3.c"
   ]
  },
  {
   "cell_type": "code",
   "execution_count": 23,
   "id": "ab25ed28",
   "metadata": {},
   "outputs": [
    {
     "name": "stdout",
     "output_type": "stream",
     "text": [
      "Top 10 congested source-destination pairs in Brooklyn between 1 am and 5 am:\n",
      "      Source-Destination Pair  Ride Count\n",
      "10504              (345, 617)    136.0707\n",
      "4022               (359, 617)    107.7769\n",
      "5317               (120, 630)    104.9992\n",
      "10571              (345, 620)    104.1418\n",
      "1391               (630, 120)     93.2904\n",
      "10495              (345, 337)     92.5102\n",
      "12202              (188, 636)     92.4959\n",
      "4755                (617, 32)     86.2556\n",
      "5308               (120, 127)     86.0058\n",
      "767                (629, 630)     77.3768\n"
     ]
    }
   ],
   "source": [
    "# Day and time range to consider for the analysis\n",
    "start_hour = 1  # 1 am\n",
    "end_hour = 5    # 5 am\n",
    "target_borough = 'Bk'\n",
    "\n",
    "# Dictionary to accumulate ride counts for each source-destination pair\n",
    "congested_pairs = defaultdict(int)\n",
    "\n",
    "# Iterate over the edges and filter by time_of_ride, and borough\n",
    "for u, v, data in G.edges(data=True):\n",
    "    time_of_ride = data.get('Hour of Day')\n",
    "\n",
    "    # Check if both source and destination stations are in the target borough\n",
    "    if start_hour <= time_of_ride <= end_hour:\n",
    "        source_borough = G.nodes[u].get('Borough')\n",
    "        destination_borough = G.nodes[v].get('Borough')\n",
    "        # print(source_borough, destination_borough)\n",
    "        if source_borough == target_borough and destination_borough == target_borough:\n",
    "            ride_count = data.get('Estimated Average Ridership') \n",
    "            congested_pairs[(u, v)] += ride_count\n",
    "\n",
    "# Convert to DataFrame for sorting\n",
    "df = pd.DataFrame(congested_pairs.items(), columns=['Source-Destination Pair', 'Ride Count'])\n",
    "\n",
    "# Sort by 'Ride Count' and select the top 10 pairs\n",
    "top_10_congested_pairs = df.sort_values(by='Ride Count', ascending=False).head(10)\n",
    "\n",
    "# Display the results\n",
    "print(\"Top 10 congested source-destination pairs in Brooklyn between 1 am and 5 am:\")\n",
    "print(top_10_congested_pairs)\n"
   ]
  },
  {
   "cell_type": "markdown",
   "id": "5a1a70e5",
   "metadata": {},
   "source": [
    "### 3.d"
   ]
  },
  {
   "cell_type": "code",
   "execution_count": 24,
   "id": "d8b625dc",
   "metadata": {},
   "outputs": [
    {
     "name": "stdout",
     "output_type": "stream",
     "text": [
      "Top 10 congested source-destination pairs from Brooklyn to Manhattan, Monday-Thursday from 6am to 7am:\n",
      "      Source-Destination Pair  Ride Count\n",
      "4869               (617, 414)   1029.6123\n",
      "11295              (345, 610)    692.6152\n",
      "14953               (51, 607)    655.3457\n",
      "4401               (620, 610)    653.3663\n",
      "4069               (359, 610)    589.2357\n",
      "11288              (345, 628)    580.2716\n",
      "4061               (359, 628)    557.0981\n",
      "5527               (120, 610)    555.5914\n",
      "14954               (51, 225)    503.5513\n",
      "1739                (54, 225)    478.5522\n"
     ]
    }
   ],
   "source": [
    "# Day and time range to consider for the analysis\n",
    "days_to_include = {'Monday', 'Tuesday', 'Wednesday', 'Thursday'}\n",
    "start_hour = 6  # 6 am\n",
    "end_hour = 7    # 7 am\n",
    "starting_borough = 'Bk'\n",
    "target_borough = 'M'\n",
    "\n",
    "# Dictionary to accumulate ride counts for each source-destination pair\n",
    "congested_pairs = defaultdict(int)\n",
    "\n",
    "# Iterate over the edges and filter by day_of_week, time_of_ride, and borough\n",
    "for u, v, data in G.edges(data=True):\n",
    "    day_of_week = data.get('Day of Week')\n",
    "    time_of_ride = data.get('Hour of Day')\n",
    "\n",
    "    # Check if both source and destination stations are in the target borough\n",
    "    if day_of_week in days_to_include and time_of_ride:\n",
    "        if start_hour <= time_of_ride <= end_hour:\n",
    "            source_borough = G.nodes[u].get('Borough')\n",
    "            destination_borough = G.nodes[v].get('Borough')\n",
    "            # print(source_borough, destination_borough)\n",
    "            if source_borough == starting_borough and destination_borough == target_borough:\n",
    "                ride_count = data.get('Estimated Average Ridership') \n",
    "                congested_pairs[(u, v)] += ride_count\n",
    "\n",
    "# Convert to DataFrame for sorting\n",
    "df = pd.DataFrame(congested_pairs.items(), columns=['Source-Destination Pair', 'Ride Count'])\n",
    "\n",
    "# Sort by 'Ride Count' and select the top 10 pairs\n",
    "top_10_congested_pairs = df.sort_values(by='Ride Count', ascending=False).head(10)\n",
    "\n",
    "# Display the results\n",
    "print(\"Top 10 congested source-destination pairs from Brooklyn to Manhattan, Monday-Thursday from 6am to 7am:\")\n",
    "print(top_10_congested_pairs)"
   ]
  },
  {
   "cell_type": "markdown",
   "id": "e654b178",
   "metadata": {},
   "source": [
    "### 3.e"
   ]
  },
  {
   "cell_type": "code",
   "execution_count": 25,
   "id": "10b35799",
   "metadata": {},
   "outputs": [
    {
     "name": "stdout",
     "output_type": "stream",
     "text": [
      "Top 10 congested source-destination pairs from Bronx to Manhattan, Monday-Thursday from 6am to 7am:\n",
      "     Source-Destination Pair  Ride Count\n",
      "1352              (366, 610)    562.2564\n",
      "1375              (366, 602)    402.3675\n",
      "1404              (366, 392)    395.6825\n",
      "1359              (366, 399)    383.7979\n",
      "1427              (366, 397)    372.9343\n",
      "1362              (366, 612)    357.8659\n",
      "1366              (366, 628)    346.6705\n",
      "1426              (366, 622)    320.3933\n",
      "3589              (604, 614)    306.0047\n",
      "5117              (378, 397)    302.6310\n"
     ]
    }
   ],
   "source": [
    "# Day and time range to consider for the analysis\n",
    "days_to_include = {'Monday', 'Tuesday', 'Wednesday', 'Thursday'}\n",
    "start_hour = 6  # 6 am\n",
    "end_hour = 7    # 7 am\n",
    "starting_borough = 'Bx'\n",
    "target_borough = 'M'\n",
    "\n",
    "# Dictionary to accumulate ride counts for each source-destination pair\n",
    "congested_pairs = defaultdict(int)\n",
    "\n",
    "# Iterate over the edges and filter by day_of_week, time_of_ride, and borough\n",
    "for u, v, data in G.edges(data=True):\n",
    "    day_of_week = data.get('Day of Week')\n",
    "    time_of_ride = data.get('Hour of Day')\n",
    "\n",
    "    # Check if both source and destination stations are in the target borough\n",
    "    if day_of_week in days_to_include and time_of_ride:\n",
    "        if start_hour <= time_of_ride <= end_hour:\n",
    "            source_borough = G.nodes[u].get('Borough')\n",
    "            destination_borough = G.nodes[v].get('Borough')\n",
    "            # print(source_borough, destination_borough)\n",
    "            if source_borough == starting_borough and destination_borough == target_borough:\n",
    "                ride_count = data.get('Estimated Average Ridership') \n",
    "                congested_pairs[(u, v)] += ride_count\n",
    "\n",
    "# Convert to DataFrame for sorting\n",
    "df = pd.DataFrame(congested_pairs.items(), columns=['Source-Destination Pair', 'Ride Count'])\n",
    "\n",
    "# Sort by 'Ride Count' and select the top 10 pairs\n",
    "top_10_congested_pairs = df.sort_values(by='Ride Count', ascending=False).head(10)\n",
    "\n",
    "# Display the results\n",
    "print(\"Top 10 congested source-destination pairs from Bronx to Manhattan, Monday-Thursday from 6am to 7am:\")\n",
    "print(top_10_congested_pairs)"
   ]
  },
  {
   "cell_type": "markdown",
   "id": "50b8dbec",
   "metadata": {},
   "source": [
    "### 3.f"
   ]
  },
  {
   "cell_type": "code",
   "execution_count": 26,
   "id": "5d6ab8bc",
   "metadata": {},
   "outputs": [
    {
     "name": "stdout",
     "output_type": "stream",
     "text": [
      "Top 10 congested source-destination pairs from State Island to Manhattan, Monday-Thursday from 6am to 7am:\n",
      "Empty DataFrame\n",
      "Columns: [Source-Destination Pair, Ride Count]\n",
      "Index: []\n"
     ]
    }
   ],
   "source": [
    "# Day and time range to consider for the analysis\n",
    "days_to_include = {'Monday', 'Tuesday', 'Wednesday', 'Thursday'}\n",
    "start_hour = 6  # 6 am\n",
    "end_hour = 7    # 7 am\n",
    "starting_borough = 'SI'\n",
    "target_borough = 'M'\n",
    "\n",
    "# Dictionary to accumulate ride counts for each source-destination pair\n",
    "congested_pairs = defaultdict(int)\n",
    "\n",
    "# Iterate over the edges and filter by day_of_week, time_of_ride, and borough\n",
    "for u, v, data in G.edges(data=True):\n",
    "    day_of_week = data.get('Day of Week')\n",
    "    time_of_ride = data.get('Hour of Day')\n",
    "\n",
    "    # Check if both source and destination stations are in the target borough\n",
    "    if day_of_week in days_to_include and time_of_ride:\n",
    "        if start_hour <= time_of_ride <= end_hour:\n",
    "            source_borough = G.nodes[u].get('Borough')\n",
    "            destination_borough = G.nodes[v].get('Borough')\n",
    "            if source_borough == starting_borough and destination_borough == target_borough:\n",
    "                # print(source_borough, destination_borough)\n",
    "                ride_count = data.get('Estimated Average Ridership') \n",
    "                congested_pairs[(u, v)] += ride_count\n",
    "\n",
    "# Convert to DataFrame for easy sorting\n",
    "df = pd.DataFrame(congested_pairs.items(), columns=['Source-Destination Pair', 'Ride Count'])\n",
    "\n",
    "# Sort by 'Ride Count' and select the top 10 pairs\n",
    "top_10_congested_pairs = df.sort_values(by='Ride Count', ascending=False).head(10)\n",
    "\n",
    "# Display the results\n",
    "print(\"Top 10 congested source-destination pairs from State Island to Manhattan, Monday-Thursday from 6am to 7am:\")\n",
    "print(top_10_congested_pairs)"
   ]
  },
  {
   "cell_type": "markdown",
   "id": "51dca0bc",
   "metadata": {},
   "source": [
    "The empty dataframe means that there is not a station in which satisfies the requirement of the query. Therefore, there are no source-destination pairs from State Island to Manhattan from 6am to 7am. "
   ]
  },
  {
   "cell_type": "markdown",
   "id": "37a00b52",
   "metadata": {},
   "source": []
  }
 ],
 "metadata": {
  "kernelspec": {
   "display_name": "DSC180A_test",
   "language": "python",
   "name": "python3"
  },
  "language_info": {
   "codemirror_mode": {
    "name": "ipython",
    "version": 3
   },
   "file_extension": ".py",
   "mimetype": "text/x-python",
   "name": "python",
   "nbconvert_exporter": "python",
   "pygments_lexer": "ipython3",
   "version": "3.12.7"
  }
 },
 "nbformat": 4,
 "nbformat_minor": 5
}
